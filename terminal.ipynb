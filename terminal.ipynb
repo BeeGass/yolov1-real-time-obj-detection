{
  "cells": [
    {
      "cell_type": "markdown",
      "metadata": {
        "id": "CG_NHxWYJ9mD"
      },
      "source": [
        "### Connect to google drive"
      ]
    },
    {
      "cell_type": "code",
      "execution_count": null,
      "metadata": {
        "colab": {
          "base_uri": "https://localhost:8080/"
        },
        "id": "NjAxi1PnJmUk",
        "outputId": "e0bf8f04-b95a-4741-fdd8-749f1af3bcdd"
      },
      "outputs": [
        {
          "output_type": "stream",
          "name": "stdout",
          "text": [
            "Drive already mounted at /content/drive; to attempt to forcibly remount, call drive.mount(\"/content/drive\", force_remount=True).\n"
          ]
        }
      ],
      "source": [
        "from google.colab import drive\n",
        "# mount drive\n",
        "drive.mount('/content/drive')"
      ]
    },
    {
      "cell_type": "markdown",
      "metadata": {
        "id": "YvqBg00MKBuu"
      },
      "source": [
        "### Check folder\n",
        "Does everythong look fine ?"
      ]
    },
    {
      "cell_type": "code",
      "execution_count": null,
      "metadata": {
        "colab": {
          "base_uri": "https://localhost:8080/"
        },
        "id": "LMVHRpodoC_z",
        "outputId": "6ee24361-3358-4708-d34a-9d0214c06e4b"
      },
      "outputs": [
        {
          "output_type": "stream",
          "name": "stdout",
          "text": [
            "/content/drive/MyDrive/yolo\n",
            "application  loss\t\t __pycache__\t   setup.py\t   utils\n",
            "cpts\t     models\t\t requirements.txt  terminal.ipynb  venv\n",
            "figures      myproject.egg-info  results\t   train\t   video\n"
          ]
        }
      ],
      "source": [
        "%cd /content/drive/MyDrive/yolo/\n",
        "!ls"
      ]
    },
    {
      "cell_type": "markdown",
      "metadata": {
        "id": "r_7G3ouKPDxB"
      },
      "source": [
        "### Ensure virtualenv is upgraded"
      ]
    },
    {
      "cell_type": "code",
      "execution_count": null,
      "metadata": {
        "colab": {
          "base_uri": "https://localhost:8080/"
        },
        "id": "ynzT-epsGvmz",
        "outputId": "a23e3328-b9c8-457b-f70c-45751358aae7"
      },
      "outputs": [
        {
          "name": "stdout",
          "output_type": "stream",
          "text": [
            "Looking in indexes: https://pypi.org/simple, https://us-python.pkg.dev/colab-wheels/public/simple/\n",
            "Collecting virtualenv\n",
            "  Downloading virtualenv-20.16.5-py3-none-any.whl (8.8 MB)\n",
            "\u001b[K     |████████████████████████████████| 8.8 MB 5.1 MB/s \n",
            "\u001b[?25hCollecting platformdirs<3,>=2.4\n",
            "  Downloading platformdirs-2.5.2-py3-none-any.whl (14 kB)\n",
            "Requirement already satisfied: importlib-metadata>=4.8.3 in /usr/local/lib/python3.7/dist-packages (from virtualenv) (4.12.0)\n",
            "Requirement already satisfied: filelock<4,>=3.4.1 in /usr/local/lib/python3.7/dist-packages (from virtualenv) (3.8.0)\n",
            "Collecting distlib<1,>=0.3.5\n",
            "  Downloading distlib-0.3.6-py2.py3-none-any.whl (468 kB)\n",
            "\u001b[K     |████████████████████████████████| 468 kB 71.0 MB/s \n",
            "\u001b[?25hRequirement already satisfied: typing-extensions>=3.6.4 in /usr/local/lib/python3.7/dist-packages (from importlib-metadata>=4.8.3->virtualenv) (4.1.1)\n",
            "Requirement already satisfied: zipp>=0.5 in /usr/local/lib/python3.7/dist-packages (from importlib-metadata>=4.8.3->virtualenv) (3.8.1)\n",
            "Installing collected packages: platformdirs, distlib, virtualenv\n",
            "Successfully installed distlib-0.3.6 platformdirs-2.5.2 virtualenv-20.16.5\n"
          ]
        }
      ],
      "source": [
        "!pip install --upgrade virtualenv"
      ]
    },
    {
      "cell_type": "markdown",
      "metadata": {
        "id": "205-3LTvHba5"
      },
      "source": [
        "### Create Virtual Env"
      ]
    },
    {
      "cell_type": "code",
      "execution_count": null,
      "metadata": {
        "colab": {
          "base_uri": "https://localhost:8080/"
        },
        "id": "SfZUTZ1GELOh",
        "outputId": "435db0ae-17d6-415b-ef9f-ea8434573bca"
      },
      "outputs": [
        {
          "name": "stdout",
          "output_type": "stream",
          "text": [
            "/bin/bash: virtualenv: command not found\n"
          ]
        }
      ],
      "source": [
        "!virtualenv -p python3 venv"
      ]
    },
    {
      "cell_type": "markdown",
      "metadata": {
        "id": "4jnJW0k-PTxS"
      },
      "source": [
        "### Activate virtual env"
      ]
    },
    {
      "cell_type": "code",
      "execution_count": null,
      "metadata": {
        "id": "x_a3dPRyFVGp"
      },
      "outputs": [],
      "source": [
        "!source venv/bin/activate"
      ]
    },
    {
      "cell_type": "markdown",
      "metadata": {
        "id": "W5eZDenmQZd5"
      },
      "source": [
        "### Install package for relative imports"
      ]
    },
    {
      "cell_type": "code",
      "execution_count": null,
      "metadata": {
        "colab": {
          "base_uri": "https://localhost:8080/"
        },
        "id": "VuJsk7_THaj7",
        "outputId": "75c38f13-26ad-427e-9d08-0d83f2cc5edc"
      },
      "outputs": [
        {
          "name": "stdout",
          "output_type": "stream",
          "text": [
            "Looking in indexes: https://pypi.org/simple, https://us-python.pkg.dev/colab-wheels/public/simple/\n",
            "Obtaining file:///content/drive/MyDrive/yolo\n",
            "Installing collected packages: myproject\n",
            "  Running setup.py develop for myproject\n",
            "Successfully installed myproject-1.0\n"
          ]
        }
      ],
      "source": [
        "!pip install -e ."
      ]
    },
    {
      "cell_type": "markdown",
      "metadata": {
        "id": "OL6PWgI_Ioqb"
      },
      "source": [
        "### Get data\n",
        "Note that on Linux and MacOS get_data.sh works, however google collab is not able to catch up with reading and writing on cloud. Some commands are not executed, files are skipped. I recommend running this locally and then uploading the folder manually to your google drive using the google drive application. "
      ]
    },
    {
      "cell_type": "markdown",
      "metadata": {
        "id": "5IV-xp6_RtK8"
      },
      "source": [
        "### Train model\n",
        "We can use the notebook just like a terminal and train by calling the training.py. "
      ]
    },
    {
      "cell_type": "code",
      "execution_count": null,
      "metadata": {
        "colab": {
          "base_uri": "https://localhost:8080/"
        },
        "id": "Zk578JZkxp5B",
        "outputId": "8e41102c-907b-4cd3-86e2-13456c6ec25e"
      },
      "outputs": [
        {
          "name": "stdout",
          "output_type": "stream",
          "text": [
            "/content/drive/MyDrive/yolo\n",
            "Downloading: \"https://download.pytorch.org/models/vgg19_bn-c79401a0.pth\" to /root/.cache/torch/hub/checkpoints/vgg19_bn-c79401a0.pth\n",
            "100% 548M/548M [00:07<00:00, 76.1MB/s]\n",
            "Downloading: \"https://download.pytorch.org/models/resnet18-f37072fd.pth\" to /root/.cache/torch/hub/checkpoints/resnet18-f37072fd.pth\n",
            "100% 44.7M/44.7M [00:00<00:00, 130MB/s]\n",
            "Downloading: \"https://download.pytorch.org/models/resnet50-11ad3fa6.pth\" to /root/.cache/torch/hub/checkpoints/resnet50-11ad3fa6.pth\n",
            "100% 97.8M/97.8M [00:01<00:00, 75.2MB/s]\n",
            "Petrained resnet 18 network initalized as a backbone.\n",
            "Checkpoint from epoch:135 successfully loaded.\n",
            "Learning Rate: 1e-06\n",
            "Epoch:135  Train[Loss:7.5199174880981445 mAP:0.6834244728088379]  Test[Loss:2.9095914363861084 mAP:0.4447677731513977]\n",
            "Checkpoint at 135 stored\n",
            "Learning Rate: 1e-06\n",
            "Epoch:136  Train[Loss:0.6527091264724731 mAP:0.6859575510025024]  Test[Loss:9.395856857299805 mAP:0.44500818848609924]\n",
            "Learning Rate: 1e-06\n",
            "Epoch:137  Train[Loss:2.4757277965545654 mAP:0.6829226613044739]  Test[Loss:7.7171406745910645 mAP:0.44051989912986755]\n",
            "Traceback (most recent call last):\n",
            "  File \"train/train_yolov1.py\", line 269, in <module>\n",
            "    main()\n",
            "  File \"train/train_yolov1.py\", line 244, in main\n",
            "    train_loss_value = train(train_loader, model, optimizer, loss_f)\n",
            "  File \"train/train_yolov1.py\", line 98, in train\n",
            "    x, y = x.to(device), y.to(device)\n",
            "KeyboardInterrupt\n"
          ]
        }
      ],
      "source": [
        "%cd /content/drive/MyDrive/yolo/\n",
        "!python train/train_yolov1.py"
      ]
    },
    {
      "cell_type": "markdown",
      "metadata": {
        "id": "9c1nPHxQF-bx"
      },
      "source": [
        "### Figures"
      ]
    },
    {
      "cell_type": "code",
      "execution_count": null,
      "metadata": {
        "colab": {
          "base_uri": "https://localhost:8080/"
        },
        "id": "gDP5y-rldAHH",
        "outputId": "ba6a1588-40f6-4e91-e1eb-76aeb27bfccb"
      },
      "outputs": [
        {
          "name": "stdout",
          "output_type": "stream",
          "text": [
            "/content/drive/MyDrive/yolo\n",
            "Traceback (most recent call last):\n",
            "  File \"utils/get_inference_speed.py\", line 77, in <module>\n",
            "    checkpoint = torch.load(path_cpt_file)\n",
            "  File \"/usr/local/lib/python3.7/dist-packages/torch/serialization.py\", line 699, in load\n",
            "    with _open_file_like(f, 'rb') as opened_file:\n",
            "  File \"/usr/local/lib/python3.7/dist-packages/torch/serialization.py\", line 230, in _open_file_like\n",
            "    return _open_file(name_or_buffer, mode)\n",
            "  File \"/usr/local/lib/python3.7/dist-packages/torch/serialization.py\", line 211, in __init__\n",
            "    super(_open_file, self).__init__(open(name, mode))\n",
            "FileNotFoundError: [Errno 2] No such file or directory: 'cpts/resnet50_adj_lr_yolov1.cpt'\n"
          ]
        }
      ],
      "source": [
        "%cd /content/drive/MyDrive/yolo/\n",
        "!python utils/get_inference_speed.py"
      ]
    },
    {
      "cell_type": "code",
      "execution_count": null,
      "metadata": {
        "colab": {
          "base_uri": "https://localhost:8080/"
        },
        "id": "mbIkPlBUixL9",
        "outputId": "0562e337-90c6-41e7-dd97-9705f7cd93d6"
      },
      "outputs": [
        {
          "name": "stdout",
          "output_type": "stream",
          "text": [
            "/content/drive/MyDrive/yolo\n",
            "Downloading: \"https://download.pytorch.org/models/vgg19_bn-c79401a0.pth\" to /root/.cache/torch/hub/checkpoints/vgg19_bn-c79401a0.pth\n",
            "100% 548M/548M [00:09<00:00, 59.6MB/s]\n",
            "Downloading: \"https://download.pytorch.org/models/resnet18-f37072fd.pth\" to /root/.cache/torch/hub/checkpoints/resnet18-f37072fd.pth\n",
            "100% 44.7M/44.7M [00:00<00:00, 66.1MB/s]\n",
            "Downloading: \"https://download.pytorch.org/models/resnet50-11ad3fa6.pth\" to /root/.cache/torch/hub/checkpoints/resnet50-11ad3fa6.pth\n",
            "100% 97.8M/97.8M [00:03<00:00, 32.1MB/s]\n",
            "Petrained yolov1 resnet 50 network initalized.\n"
          ]
        }
      ],
      "source": [
        "%cd /content/drive/MyDrive/yolo/\n",
        "!python utils/figs.py"
      ]
    },
    {
      "cell_type": "markdown",
      "source": [
        "### Real-time inference on video\n",
        "Make sure you have a .mp4 video file in in the video/ folder. "
      ],
      "metadata": {
        "id": "puS63xE6B1qg"
      }
    },
    {
      "cell_type": "code",
      "execution_count": null,
      "metadata": {
        "colab": {
          "base_uri": "https://localhost:8080/"
        },
        "id": "dZX5-puNNgiB",
        "outputId": "4ab5b54a-d5ba-4650-b74d-adc2763ec805"
      },
      "outputs": [
        {
          "name": "stdout",
          "output_type": "stream",
          "text": [
            "/content/drive/MyDrive/yolo\n",
            "Petrained yolov1 resnet 50 network initalized.\n",
            "Video processed in real time and saved.\n"
          ]
        }
      ],
      "source": [
        "%cd /content/drive/MyDrive/yolo/\n",
        "!python yolov1_watches_youtube.py"
      ]
    }
  ],
  "metadata": {
    "accelerator": "GPU",
    "colab": {
      "collapsed_sections": [],
      "provenance": []
    },
    "kernelspec": {
      "display_name": "Python 3",
      "name": "python3"
    },
    "language_info": {
      "name": "python"
    }
  },
  "nbformat": 4,
  "nbformat_minor": 0
}